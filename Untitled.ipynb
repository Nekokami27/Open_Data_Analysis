{
 "cells": [
  {
   "cell_type": "code",
   "execution_count": 1,
   "metadata": {},
   "outputs": [
    {
     "name": "stdout",
     "output_type": "stream",
     "text": [
      "Index(['Year', 'Month', 'Investor', ' Quantity in Millions ', 'Share Size',\n",
      "       'Transaction Party', 'Sector', 'Subsector', 'Country', 'Region', 'BRI',\n",
      "       'Greenfield'],\n",
      "      dtype='object')\n"
     ]
    }
   ],
   "source": [
    "#import\n",
    "import pandas as pd\n",
    "import numpy as np\n",
    "import scipy.stats as st\n",
    "import sklearn.linear_model as lm\n",
    "from sklearn.model_selection import train_test_split\n",
    "from sklearn.neighbors import KNeighborsClassifier\n",
    "import matplotlib.pyplot as plt\n",
    "from sklearn.metrics import accuracy_score\n",
    "import time\n",
    "%matplotlib inline\n",
    "investments = pd.read_csv('CGI.csv')\n",
    "print(investments.keys())"
   ]
  },
  {
   "cell_type": "code",
   "execution_count": 2,
   "metadata": {
    "scrolled": true
   },
   "outputs": [],
   "source": [
    "investments = investments.fillna(0)"
   ]
  },
  {
   "cell_type": "code",
   "execution_count": 3,
   "metadata": {},
   "outputs": [
    {
     "name": "stdout",
     "output_type": "stream",
     "text": [
      "<class 'pandas.core.frame.DataFrame'>\n",
      "RangeIndex: 1635 entries, 0 to 1634\n",
      "Data columns (total 12 columns):\n",
      " #   Column                  Non-Null Count  Dtype  \n",
      "---  ------                  --------------  -----  \n",
      " 0   Year                    1635 non-null   int64  \n",
      " 1   Month                   1635 non-null   object \n",
      " 2   Investor                1635 non-null   object \n",
      " 3    Quantity in Millions   1635 non-null   object \n",
      " 4   Share Size              1635 non-null   object \n",
      " 5   Transaction Party       1635 non-null   object \n",
      " 6   Sector                  1635 non-null   object \n",
      " 7   Subsector               1635 non-null   object \n",
      " 8   Country                 1635 non-null   object \n",
      " 9   Region                  1635 non-null   object \n",
      " 10  BRI                     1635 non-null   float64\n",
      " 11  Greenfield              1635 non-null   object \n",
      "dtypes: float64(1), int64(1), object(10)\n",
      "memory usage: 153.4+ KB\n",
      "None\n"
     ]
    }
   ],
   "source": [
    "#info\n",
    "print(investments.info())"
   ]
  },
  {
   "cell_type": "code",
   "execution_count": 4,
   "metadata": {},
   "outputs": [],
   "source": [
    "investments[' Quantity in Millions '] = investments[' Quantity in Millions '].str.replace(\"$\",\"\")\n",
    "investments[' Quantity in Millions '] = investments[' Quantity in Millions '].str.replace(\",\",\"\")\n",
    "investments[' Quantity in Millions '] = investments[' Quantity in Millions '].astype('int64')"
   ]
  },
  {
   "cell_type": "code",
   "execution_count": 5,
   "metadata": {},
   "outputs": [
    {
     "name": "stdout",
     "output_type": "stream",
     "text": [
      "Region\n",
      "Arab Middle East and North Africa     967.804878\n",
      "Australia                             634.805195\n",
      "East Asia                             571.353383\n",
      "Europe                                884.177215\n",
      "North America                         749.529412\n",
      "South America                        1017.107438\n",
      "Sub-Saharan Africa                    696.535433\n",
      "USA                                   685.150376\n",
      "West Asia                             604.666667\n",
      "Name:  Quantity in Millions , dtype: float64\n",
      "Region\n",
      "Arab Middle East and North Africa     39680\n",
      "Australia                             97760\n",
      "East Asia                            151980\n",
      "Europe                               349250\n",
      "North America                         63710\n",
      "South America                        123070\n",
      "Sub-Saharan Africa                    88460\n",
      "USA                                  182250\n",
      "West Asia                            108840\n",
      "Name:  Quantity in Millions , dtype: int64\n"
     ]
    }
   ],
   "source": [
    "#China investments sum & mean in regions\n",
    "investments_grouped = investments[' Quantity in Millions '].groupby(investments['Region'])\n",
    "print(investments_grouped.mean())\n",
    "print(investments_grouped.sum())"
   ]
  },
  {
   "cell_type": "code",
   "execution_count": 6,
   "metadata": {},
   "outputs": [
    {
     "name": "stdout",
     "output_type": "stream",
     "text": [
      "Region\n",
      "Arab Middle East and North Africa     663.043478\n",
      "East Asia                             632.201258\n",
      "Europe                                619.210526\n",
      "North America                         667.500000\n",
      "South America                        1560.909091\n",
      "Sub-Saharan Africa                    557.017544\n",
      "West Asia                             598.607595\n",
      "Name:  Quantity in Millions , dtype: float64\n",
      "Region\n",
      "Arab Middle East and North Africa     15250\n",
      "East Asia                            100520\n",
      "Europe                                47060\n",
      "North America                          2670\n",
      "South America                         34340\n",
      "Sub-Saharan Africa                    31750\n",
      "West Asia                             47290\n",
      "Name:  Quantity in Millions , dtype: int64\n"
     ]
    }
   ],
   "source": [
    "#China investments sum & mean in regions that attended OBR\n",
    "in_OBR_1 = investments[investments['BRI'] == 1.0].groupby(by = 'Region')[' Quantity in Millions ']\n",
    "print(in_OBR_1.mean())\n",
    "print(in_OBR_1.sum())"
   ]
  },
  {
   "cell_type": "code",
   "execution_count": 7,
   "metadata": {},
   "outputs": [
    {
     "name": "stdout",
     "output_type": "stream",
     "text": [
      "Region\n",
      "Arab Middle East and North Africa     663.043478\n",
      "East Asia                             632.201258\n",
      "Europe                                619.210526\n",
      "North America                         667.500000\n",
      "South America                        1560.909091\n",
      "Sub-Saharan Africa                    557.017544\n",
      "West Asia                             598.607595\n",
      "Name:  Quantity in Millions , dtype: float64\n",
      "Region\n",
      "Arab Middle East and North Africa     15250\n",
      "East Asia                            100520\n",
      "Europe                                47060\n",
      "North America                          2670\n",
      "South America                         34340\n",
      "Sub-Saharan Africa                    31750\n",
      "West Asia                             47290\n",
      "Name:  Quantity in Millions , dtype: int64\n"
     ]
    }
   ],
   "source": [
    "#China investments sum & mean after OBR announced in regions that attended OBR\n",
    "in_OBR_1_after = investments[(investments['Year']>2012) & (investments['BRI'] == 1.0)].groupby(by = 'Region')[' Quantity in Millions ']\n",
    "print(in_OBR_1_after.mean())\n",
    "print(in_OBR_1_after.sum())"
   ]
  },
  {
   "cell_type": "code",
   "execution_count": 8,
   "metadata": {},
   "outputs": [
    {
     "name": "stdout",
     "output_type": "stream",
     "text": [
      "Series([], Name:  Quantity in Millions , dtype: int64)\n",
      "Series([], Name:  Quantity in Millions , dtype: int64)\n"
     ]
    }
   ],
   "source": [
    "#China investments sum & mean before OBR announced in regions that attended OBR(NONE)\n",
    "in_OBR_1_before = investments[(investments['Year']<2013) & (investments['BRI'] == 1.0)].groupby(by = 'Region')[' Quantity in Millions ']\n",
    "print(in_OBR_1_before.mean())\n",
    "print(in_OBR_1_before.sum())"
   ]
  },
  {
   "cell_type": "code",
   "execution_count": 9,
   "metadata": {},
   "outputs": [
    {
     "name": "stdout",
     "output_type": "stream",
     "text": [
      "Region\n",
      "Arab Middle East and North Africa    1357.222222\n",
      "Australia                             634.805195\n",
      "East Asia                             480.934579\n",
      "Europe                                947.304075\n",
      "North America                         753.580247\n",
      "South America                         896.262626\n",
      "Sub-Saharan Africa                    810.142857\n",
      "USA                                   685.150376\n",
      "West Asia                             609.405941\n",
      "Name:  Quantity in Millions , dtype: float64\n",
      "Region\n",
      "Arab Middle East and North Africa     24430\n",
      "Australia                             97760\n",
      "East Asia                             51460\n",
      "Europe                               302190\n",
      "North America                         61040\n",
      "South America                         88730\n",
      "Sub-Saharan Africa                    56710\n",
      "USA                                  182250\n",
      "West Asia                             61550\n",
      "Name:  Quantity in Millions , dtype: int64\n"
     ]
    }
   ],
   "source": [
    "#China investments sum & mean in regions that not attended OBR\n",
    "in_OBR_0 = investments[investments['BRI'] == 0.0].groupby(by = 'Region')[' Quantity in Millions ']\n",
    "print(in_OBR_0.mean())\n",
    "print(in_OBR_0.sum())"
   ]
  },
  {
   "cell_type": "code",
   "execution_count": 10,
   "metadata": {},
   "outputs": [
    {
     "name": "stdout",
     "output_type": "stream",
     "text": [
      "Region\n",
      "Arab Middle East and North Africa    1350.000000\n",
      "Australia                             468.316832\n",
      "East Asia                             423.437500\n",
      "Europe                                953.902439\n",
      "North America                         479.069767\n",
      "South America                         752.692308\n",
      "Sub-Saharan Africa                    881.111111\n",
      "USA                                   668.125000\n",
      "West Asia                             503.958333\n",
      "Name:  Quantity in Millions , dtype: float64\n",
      "Region\n",
      "Arab Middle East and North Africa      4050\n",
      "Australia                             47300\n",
      "East Asia                             13550\n",
      "Europe                               234660\n",
      "North America                         20600\n",
      "South America                         39140\n",
      "Sub-Saharan Africa                    15860\n",
      "USA                                  138970\n",
      "West Asia                             24190\n",
      "Name:  Quantity in Millions , dtype: int64\n"
     ]
    }
   ],
   "source": [
    "#China investments sum & mean after OBR announced in regions that not attended OBR\n",
    "in_OBR_0_after = investments[(investments['Year']>2012) & (investments['BRI'] == 0.0)].groupby(by = 'Region')[' Quantity in Millions ']\n",
    "print(in_OBR_0_after.mean())\n",
    "print(in_OBR_0_after.sum())"
   ]
  },
  {
   "cell_type": "code",
   "execution_count": 11,
   "metadata": {
    "scrolled": true
   },
   "outputs": [
    {
     "name": "stdout",
     "output_type": "stream",
     "text": [
      "Region\n",
      "Arab Middle East and North Africa    1358.666667\n",
      "Australia                             952.075472\n",
      "East Asia                             505.466667\n",
      "Europe                                925.068493\n",
      "North America                        1064.210526\n",
      "South America                        1055.106383\n",
      "Sub-Saharan Africa                    785.576923\n",
      "USA                                   746.206897\n",
      "West Asia                             704.905660\n",
      "Name:  Quantity in Millions , dtype: float64\n",
      "Region\n",
      "Arab Middle East and North Africa    20380\n",
      "Australia                            50460\n",
      "East Asia                            37910\n",
      "Europe                               67530\n",
      "North America                        40440\n",
      "South America                        49590\n",
      "Sub-Saharan Africa                   40850\n",
      "USA                                  43280\n",
      "West Asia                            37360\n",
      "Name:  Quantity in Millions , dtype: int64\n"
     ]
    }
   ],
   "source": [
    "#China investments sum & mean before OBR announced in regions that not attended OBR\n",
    "in_OBR_0_before = investments[(investments['Year']<2013) & (investments['BRI'] == 0.0)].groupby(by = 'Region')[' Quantity in Millions ']\n",
    "print(in_OBR_0_before.mean())\n",
    "print(in_OBR_0_before.sum())"
   ]
  },
  {
   "cell_type": "code",
   "execution_count": 12,
   "metadata": {},
   "outputs": [
    {
     "data": {
      "image/png": "[encoded data removed]",
      "text/plain": [
       "<Figure size 432x288 with 1 Axes>"
      ]
     },
     "metadata": {},
     "output_type": "display_data"
    },
    {
     "data": {
      "image/png": "[encoded data removed]",
      "text/plain": [
       "<Figure size 432x288 with 1 Axes>"
      ]
     },
     "metadata": {},
     "output_type": "display_data"
    }
   ],
   "source": [
    "#region 1-Arab Middle East and North Africa,2-East Asia,3-Europe,4-North America\n",
    "#region 5-South America,6-Sub-Saharan Africa,7-West Asia\n",
    "x = np.arange(1,8)\n",
    "plt.bar(x,in_OBR_1.mean())\n",
    "plt.title('Average of China investments in regions that attended OBR')\n",
    "plt.show()\n",
    "x = np.arange(1,8)\n",
    "plt.bar(x,in_OBR_1.sum())\n",
    "plt.title('Sum of China investments in regions that attended OBR')\n",
    "plt.show()"
   ]
  },
  {
   "cell_type": "code",
   "execution_count": 13,
   "metadata": {},
   "outputs": [
    {
     "data": {
      "image/png": "[encoded data removed]",
      "text/plain": [
       "<Figure size 432x288 with 1 Axes>"
      ]
     },
     "metadata": {},
     "output_type": "display_data"
    },
    {
     "data": {
      "image/png": "[encoded data removed]",
      "text/plain": [
       "<Figure size 432x288 with 1 Axes>"
      ]
     },
     "metadata": {},
     "output_type": "display_data"
    },
    {
     "data": {
      "image/png": "[encoded data removed]",
      "text/plain": [
       "<Figure size 432x288 with 1 Axes>"
      ]
     },
     "metadata": {},
     "output_type": "display_data"
    },
    {
     "data": {
      "image/png": "[encoded data removed]",
      "text/plain": [
       "<Figure size 432x288 with 1 Axes>"
      ]
     },
     "metadata": {},
     "output_type": "display_data"
    }
   ],
   "source": [
    "#region 1-Arab Middle East and North Africa,2-Australia,3-East Asia,4-Europe,5-North America\n",
    "#region 6-South America,7-Sub-Saharan Africa,8-USA,9-West Asia\n",
    "x = np.arange(1,10)\n",
    "plt.bar(x,in_OBR_0_before.mean())\n",
    "plt.title('Average of China investments before OBR announced in regions that not attended OBR')\n",
    "plt.show()\n",
    "x = np.arange(1,10)\n",
    "plt.bar(x,in_OBR_0_after.mean())\n",
    "plt.title('Average of China investments after OBR announced in regions that not attended OBR')\n",
    "plt.show()\n",
    "x = np.arange(1,10)\n",
    "plt.bar(x,in_OBR_0_before.sum())\n",
    "plt.title('Sum of China investments before OBR announced in regions that not attended OBR')\n",
    "plt.show()\n",
    "x = np.arange(1,10)\n",
    "plt.bar(x,in_OBR_0_after.sum())\n",
    "plt.title('Sum of China investments after OBR announced in regions that not attended OBR')\n",
    "plt.show()"
   ]
  },
  {
   "cell_type": "code",
   "execution_count": 14,
   "metadata": {},
   "outputs": [
    {
     "name": "stdout",
     "output_type": "stream",
     "text": [
      "404.2857142857143\n",
      "11320\n"
     ]
    }
   ],
   "source": [
    "#China investments in USA sum & mean during trade-war\n",
    "print(investments[(investments['Year'].between(2018,2019)) &  (investments['Region'] == 'USA')][' Quantity in Millions '].mean())\n",
    "print(investments[(investments['Year'].between(2018,2019)) &  (investments['Region'] == 'USA')][' Quantity in Millions '].sum())"
   ]
  },
  {
   "cell_type": "code",
   "execution_count": 15,
   "metadata": {},
   "outputs": [
    {
     "name": "stdout",
     "output_type": "stream",
     "text": [
      "857.4725274725274\n",
      "78030\n"
     ]
    }
   ],
   "source": [
    "#China investments in USA sum & mean two years before trade-war begin\n",
    "print(investments[(investments['Year'].between(2016,2017)) &  (investments['Region'] == 'USA')][' Quantity in Millions '].mean())\n",
    "print(investments[(investments['Year'].between(2016,2017)) &  (investments['Region'] == 'USA')][' Quantity in Millions '].sum())"
   ]
  },
  {
   "cell_type": "code",
   "execution_count": 16,
   "metadata": {},
   "outputs": [
    {
     "name": "stdout",
     "output_type": "stream",
     "text": [
      "Region\n",
      "Arab Middle East and North Africa     290\n",
      "Australia                             320\n",
      "East Asia                             870\n",
      "Europe                                100\n",
      "North America                         750\n",
      "South America                        1970\n",
      "USA                                  1740\n",
      "West Asia                            4200\n",
      "Name:  Quantity in Millions , dtype: int64\n",
      "Region\n",
      "Arab Middle East and North Africa     940\n",
      "Australia                            2920\n",
      "East Asia                            1600\n",
      "Europe                               1380\n",
      "North America                         110\n",
      "South America                         430\n",
      "Sub-Saharan Africa                   5550\n",
      "West Asia                            7320\n",
      "Name:  Quantity in Millions , dtype: int64\n",
      "Region\n",
      "Arab Middle East and North Africa    1350\n",
      "Australia                             430\n",
      "Europe                               6710\n",
      "North America                         100\n",
      "South America                        1430\n",
      "Sub-Saharan Africa                   6100\n",
      "USA                                  8400\n",
      "West Asia                            5590\n",
      "Name:  Quantity in Millions , dtype: int64\n",
      "Region\n",
      "Arab Middle East and North Africa     2460\n",
      "Australia                            15780\n",
      "East Asia                             7190\n",
      "Europe                               13480\n",
      "North America                          210\n",
      "South America                         2160\n",
      "Sub-Saharan Africa                    7830\n",
      "USA                                   4970\n",
      "West Asia                             2210\n",
      "Name:  Quantity in Millions , dtype: int64\n",
      "Region\n",
      "Arab Middle East and North Africa     9220\n",
      "Australia                             9130\n",
      "East Asia                             5030\n",
      "Europe                               10160\n",
      "North America                         3900\n",
      "South America                         1990\n",
      "Sub-Saharan Africa                    1580\n",
      "USA                                   8200\n",
      "West Asia                             6930\n",
      "Name:  Quantity in Millions , dtype: int64\n",
      "Region\n",
      "Arab Middle East and North Africa     1480\n",
      "Australia                             3340\n",
      "East Asia                             6370\n",
      "Europe                                6030\n",
      "North America                         7220\n",
      "South America                        26640\n",
      "Sub-Saharan Africa                    4610\n",
      "USA                                   8820\n",
      "West Asia                             1490\n",
      "Name:  Quantity in Millions , dtype: int64\n",
      "Region\n",
      "Arab Middle East and North Africa     3710\n",
      "Australia                             9460\n",
      "East Asia                             9710\n",
      "Europe                               15130\n",
      "North America                         6280\n",
      "South America                        11240\n",
      "Sub-Saharan Africa                    7970\n",
      "USA                                   2170\n",
      "West Asia                             4640\n",
      "Name:  Quantity in Millions , dtype: int64\n",
      "Region\n",
      "Arab Middle East and North Africa      930\n",
      "Australia                             9080\n",
      "East Asia                             7140\n",
      "Europe                               14540\n",
      "North America                        21870\n",
      "South America                         3730\n",
      "Sub-Saharan Africa                    7210\n",
      "USA                                   8980\n",
      "West Asia                             4980\n",
      "Name:  Quantity in Millions , dtype: int64\n",
      "Region\n",
      "Arab Middle East and North Africa     5300\n",
      "Australia                             8580\n",
      "East Asia                             7360\n",
      "Europe                                9770\n",
      "North America                          470\n",
      "South America                         7430\n",
      "Sub-Saharan Africa                   12290\n",
      "USA                                  16120\n",
      "West Asia                            12520\n",
      "Name:  Quantity in Millions , dtype: int64\n",
      "Region\n",
      "Australia             10040\n",
      "East Asia             11040\n",
      "Europe                30080\n",
      "North America          5300\n",
      "South America         11430\n",
      "Sub-Saharan Africa     8210\n",
      "USA                   17100\n",
      "West Asia              9060\n",
      "Name:  Quantity in Millions , dtype: int64\n",
      "Region\n",
      "Arab Middle East and North Africa      540\n",
      "Australia                            10480\n",
      "East Asia                            28240\n",
      "Europe                               37040\n",
      "North America                         1590\n",
      "South America                         3520\n",
      "Sub-Saharan Africa                    6310\n",
      "USA                                  16400\n",
      "West Asia                            13790\n",
      "Name:  Quantity in Millions , dtype: int64\n",
      "Region\n",
      "Arab Middle East and North Africa     2550\n",
      "Australia                             6630\n",
      "East Asia                            12540\n",
      "Europe                               52310\n",
      "North America                         5160\n",
      "South America                        15470\n",
      "Sub-Saharan Africa                    4740\n",
      "USA                                  53020\n",
      "West Asia                             5790\n",
      "Name:  Quantity in Millions , dtype: int64\n",
      "Region\n",
      "Arab Middle East and North Africa     3130\n",
      "Australia                             5040\n",
      "East Asia                            26280\n",
      "Europe                               93750\n",
      "North America                         2390\n",
      "South America                        10140\n",
      "Sub-Saharan Africa                    2290\n",
      "USA                                  25010\n",
      "West Asia                             7610\n",
      "Name:  Quantity in Millions , dtype: int64\n",
      "Region\n",
      "Arab Middle East and North Africa     3780\n",
      "Australia                             4060\n",
      "East Asia                            13750\n",
      "Europe                               42450\n",
      "North America                         5610\n",
      "South America                        15210\n",
      "Sub-Saharan Africa                   12300\n",
      "USA                                   8130\n",
      "West Asia                             9880\n",
      "Name:  Quantity in Millions , dtype: int64\n",
      "Region\n",
      "Arab Middle East and North Africa     4000\n",
      "Australia                             2470\n",
      "East Asia                            14860\n",
      "Europe                               16320\n",
      "North America                         2750\n",
      "South America                        10280\n",
      "Sub-Saharan Africa                    1470\n",
      "USA                                   3190\n",
      "West Asia                            12830\n",
      "Name:  Quantity in Millions , dtype: int64\n"
     ]
    }
   ],
   "source": [
    "#China investments in every region / per year\n",
    "for i in range(2005,2020): \n",
    "    locals()['investments_cat{}'.format(i)] = investments[investments['Year'] == i].groupby(by = 'Region')[' Quantity in Millions '].sum()\n",
    "    print(locals()['investments_cat{}'.format(i)])\n",
    "    if (i == 2005):\n",
    "        investments_cat = locals()['investments_cat{}'.format(i)]\n",
    "    else:\n",
    "        investments_cat = np.append(investments_cat,locals()['investments_cat{}'.format(i)])"
   ]
  },
  {
   "cell_type": "code",
   "execution_count": 17,
   "metadata": {},
   "outputs": [
    {
     "data": {
      "image/png": "[encoded data removed]",
      "text/plain": [
       "<Figure size 432x288 with 1 Axes>"
      ]
     },
     "metadata": {},
     "output_type": "display_data"
    },
    {
     "data": {
      "image/png": "[encoded data removed]",
      "text/plain": [
       "<Figure size 432x288 with 1 Axes>"
      ]
     },
     "metadata": {},
     "output_type": "display_data"
    }
   ],
   "source": [
    "#China investments in USA\n",
    "year = np.arange(2005,2019)\n",
    "in_re_USA = investments[investments['Region'] == 'USA'].groupby(by = 'Year')[' Quantity in Millions ']\n",
    "lines = plt.plot(year,in_re_USA.mean())\n",
    "plt.title('Average of China investments in USA')\n",
    "plt.show()\n",
    "lines = plt.plot(year,in_re_USA.sum())\n",
    "plt.title('Sum of China investments in USA')\n",
    "plt.show()"
   ]
  },
  {
   "cell_type": "code",
   "execution_count": 19,
   "metadata": {},
   "outputs": [
    {
     "name": "stdout",
     "output_type": "stream",
     "text": [
      "k = 1 Training.\n",
      "Score: 0.7142857142857143.\n",
      "Complete time: 0.0064961910247802734 Secs.\n",
      "k = 2 Training.\n",
      "Score: 0.6428571428571429.\n",
      "Complete time: 0.006980419158935547 Secs.\n",
      "k = 3 Training.\n",
      "Score: 0.5714285714285714.\n",
      "Complete time: 0.006982326507568359 Secs.\n",
      "k = 4 Training.\n",
      "Score: 0.5.\n",
      "Complete time: 0.005984067916870117 Secs.\n",
      "k = 5 Training.\n",
      "Score: 0.42857142857142855.\n",
      "Complete time: 0.006981611251831055 Secs.\n",
      "k = 6 Training.\n",
      "Score: 0.35714285714285715.\n",
      "Complete time: 0.005979776382446289 Secs.\n",
      "k = 7 Training.\n",
      "Score: 0.35714285714285715.\n",
      "Complete time: 0.006986141204833984 Secs.\n"
     ]
    },
    {
     "data": {
      "image/png": "[encoded data removed]",
      "text/plain": [
       "<Figure size 432x288 with 1 Axes>"
      ]
     },
     "metadata": {},
     "output_type": "display_data"
    }
   ],
   "source": [
    "investments_data = investments[investments['Region'] == 'USA'][[' Quantity in Millions ','Year']]\n",
    "investments_label = investments[investments['Region'] == 'USA'][' Quantity in Millions ']\n",
    "train_data , test_data , train_label , test_label = train_test_split(investments_data,investments_label,test_size=0.05)\n",
    "k_score = []\n",
    "for k in range(1, 7 + 1):\n",
    "    print(\"k = {} Training.\".format(k))\n",
    "    start = time.time()\n",
    "    knn = KNeighborsClassifier(n_neighbors = k)\n",
    "    knn.fit(train_data,train_label)\n",
    "    predict_result = knn.predict(test_data)\n",
    "    predict_score = accuracy_score(test_label, predict_result)\n",
    "    k_score.append(predict_score)\n",
    "    end = time.time()\n",
    "    print(\"Score: {}.\".format(predict_score))\n",
    "    print(\"Complete time: {} Secs.\".format(end - start))\n",
    "plt.plot(range(1, 7 + 1), k_score)\n",
    "plt.xlabel('k')\n",
    "plt.ylabel('k_score')\n",
    "plt.show()"
   ]
  },
  {
   "cell_type": "code",
   "execution_count": 20,
   "metadata": {},
   "outputs": [
    {
     "name": "stdout",
     "output_type": "stream",
     "text": [
      "[6000 1030  120 1210  150  130  130  160 2600  200  140 1500 2600  120]\n"
     ]
    }
   ],
   "source": [
    "investments_data = investments[investments['Region'] == 'USA'][[' Quantity in Millions ','Year']]\n",
    "investments_label = investments[investments['Region'] == 'USA'][' Quantity in Millions ']\n",
    "train_data , test_data , train_label , test_label = train_test_split(investments_data,investments_label,test_size=0.05)\n",
    "knn = KNeighborsClassifier(1)\n",
    "knn.fit(train_data,train_label)\n",
    "print(knn.predict(test_data))"
   ]
  },
  {
   "cell_type": "code",
   "execution_count": 21,
   "metadata": {},
   "outputs": [
    {
     "data": {
      "text/plain": [
       "1106    6500\n",
       "875     1080\n",
       "572      120\n",
       "147     1200\n",
       "1349     150\n",
       "831      130\n",
       "940      130\n",
       "969      160\n",
       "83      2510\n",
       "314      200\n",
       "931      140\n",
       "402     1500\n",
       "721     2580\n",
       "998      120\n",
       "Name:  Quantity in Millions , dtype: int64"
      ]
     },
     "execution_count": 21,
     "metadata": {},
     "output_type": "execute_result"
    }
   ],
   "source": [
    "test_label"
   ]
  },
  {
   "cell_type": "code",
   "execution_count": 22,
   "metadata": {},
   "outputs": [
    {
     "name": "stdout",
     "output_type": "stream",
     "text": [
      "k = 1 Training.\n",
      "[ 1740   100  3030   150   120  5000   160   260   100   200  1400   140\n",
      "  2510   200   800  1300  1210   500   710   350  1200   100  1580   100\n",
      "   150   200  1500   180   100  1150   440   130  2370  1230  1030   500\n",
      "   190   140   160   400   200   270   230   200   570  2200   130   100\n",
      "   120   200   420  2600   330  1500   500   500   120   260  1700  1020\n",
      "   430   100  7100   680   750   110   290   140   350  1260   110   730\n",
      "   100   220   180   340   100   120   290  2910  2140   200   670   100\n",
      "   150   210   220   350   300   170   200   140   220   120   200   250\n",
      "   460   110   130   200   480   190  1950  2580   900   600   600   160\n",
      "   190   300   400   230   140   200   380   330   130   130  1900   320\n",
      "   220  1840   500   730   800   100   230   130   440   390   900   210\n",
      "   160   100   100   250  1080   270   240   150   140  1010   100   190\n",
      "   180   130  1350  3500  5400   140   920   130   250  6000   100   160\n",
      "   570   420   500   250   690  5720   280   160   350   270   780  3400\n",
      "   300  2010   120   680   150   300   720   110   340   140   810   210\n",
      "   150   250   230  1160   410   340  1000   170   150   120   280   140\n",
      "   300   260   100   260   430   510   140  6500   810   130   860   700\n",
      "   320   100  1030   290   160   360   540  1850   430  1780   450   100\n",
      "   100 10380  1600   900   130   110   140   250   260   110   180   230\n",
      "   190   160   850   100   600   300   100  2240   120   290   580   150\n",
      "   920   490   300   160   140   180   180   860   100   150   160   170\n",
      "   100   100   170   690   490  2040   140   150  1930   260   170   300\n",
      "   120   120]\n"
     ]
    }
   ],
   "source": [
    "investments_data = investments[investments['Region'] == 'USA'][[' Quantity in Millions ','Year']]\n",
    "investments_label = investments[investments['Region'] == 'USA'][' Quantity in Millions ']\n",
    "k = 1\n",
    "print(\"k = {} Training.\".format(k))\n",
    "start = time.time()\n",
    "knn = KNeighborsClassifier(n_neighbors = k)\n",
    "knn.fit(investments_data,investments_label)\n",
    "predict_result = knn.predict(investments_data)\n",
    "end = time.time()\n",
    "print(predict_result)\n",
    "#print(\"Complete time: {} Secs.\".format(end - start))"
   ]
  },
  {
   "cell_type": "code",
   "execution_count": 23,
   "metadata": {},
   "outputs": [
    {
     "data": {
      "image/png": "[encoded data removed]",
      "text/plain": [
       "<Figure size 432x288 with 1 Axes>"
      ]
     },
     "metadata": {},
     "output_type": "display_data"
    }
   ],
   "source": [
    "in_re_USA = investments[investments['Region'] == 'USA'][' Quantity in Millions ']\n",
    "plt.plot(range(1, len(in_re_USA) + 1), in_re_USA,range(1, len(in_re_USA) + 1),predict_result)\n",
    "plt.xlabel('')\n",
    "plt.ylabel('')\n",
    "plt.show()"
   ]
  },
  {
   "cell_type": "code",
   "execution_count": 24,
   "metadata": {},
   "outputs": [
    {
     "data": {
      "text/plain": [
       "Year\n",
       "2012    140\n",
       "2018    240\n",
       "2019    840\n",
       "Name:  Quantity in Millions , dtype: int64"
      ]
     },
     "execution_count": 24,
     "metadata": {},
     "output_type": "execute_result"
    }
   ],
   "source": [
    "in_re_TW = investments[investments['Country'] == 'Taiwan'].groupby(by = 'Year')[' Quantity in Millions '].sum()\n",
    "in_re_TW"
   ]
  }
 ],
 "metadata": {
  "kernelspec": {
   "display_name": "Python 3",
   "language": "python",
   "name": "python3"
  },
  "language_info": {
   "codemirror_mode": {
    "name": "ipython",
    "version": 3
   },
   "file_extension": ".py",
   "mimetype": "text/x-python",
   "name": "python",
   "nbconvert_exporter": "python",
   "pygments_lexer": "ipython3",
   "version": "3.6.5"
  }
 },
 "nbformat": 4,
 "nbformat_minor": 2
}
